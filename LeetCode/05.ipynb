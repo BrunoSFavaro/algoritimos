{
 "cells": [
  {
   "cell_type": "code",
   "execution_count": null,
   "metadata": {},
   "outputs": [
    {
     "ename": "",
     "evalue": "",
     "output_type": "error",
     "traceback": [
      "\u001b[1;31mRunning cells with 'base (Python 3.12.4)' requires the ipykernel package.\n",
      "\u001b[1;31mRun the following command to install 'ipykernel' into the Python environment. \n",
      "\u001b[1;31mCommand: 'conda install -n base ipykernel --update-deps --force-reinstall'"
     ]
    }
   ],
   "source": [
    "import pandas as pd\n",
    "\n",
    "def concatenateTables(df1: pd.DataFrame, df2: pd.DataFrame) -> pd.DataFrame:\n",
    "    frames = [df1, df2]\n",
    "    return pd.concat(frames)\n",
    "\n",
    "df1 = pd.DataFrame(\n",
    "    {\n",
    "        \"student_id\": [1, 2, 3, 4],\n",
    "        \"name\": [\"mason\", \"ava\", \"taylor\", \"george\"],\n",
    "        \"age\": [0, 1, 2, 3],\n",
    "    })\n",
    "\n",
    "df2 = pd.DataFrame(\n",
    "    {\n",
    "        \"student_id\": [5, 6],\n",
    "        \"name\": [\"leo\", \"alex\"],\n",
    "        \"age\": [2, 3],\n",
    "    })\n",
    "\n",
    "print(concatenateTables(df1, df2))"
   ]
  }
 ],
 "metadata": {
  "kernelspec": {
   "display_name": "base",
   "language": "python",
   "name": "python3"
  },
  "language_info": {
   "codemirror_mode": {
    "name": "ipython",
    "version": 3
   },
   "file_extension": ".py",
   "mimetype": "text/x-python",
   "name": "python",
   "nbconvert_exporter": "python",
   "pygments_lexer": "ipython3",
   "version": "3.12.4"
  }
 },
 "nbformat": 4,
 "nbformat_minor": 2
}
