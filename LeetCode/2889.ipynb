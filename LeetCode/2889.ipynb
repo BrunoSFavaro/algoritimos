{
 "cells": [
  {
   "cell_type": "code",
   "execution_count": 9,
   "metadata": {},
   "outputs": [
    {
     "name": "stdout",
     "output_type": "stream",
     "text": [
      "city      ElPaso  Jacksonville\n",
      "month                         \n",
      "April          2             5\n",
      "February       6            23\n",
      "January       20            12\n",
      "March         26            38\n",
      "May           43            34\n"
     ]
    }
   ],
   "source": [
    "import pandas as pd \n",
    "\n",
    "weather = ({\n",
    "    \"city\": [\"Jacksonville\", \"Jacksonville\", \"Jacksonville\", \"Jacksonville\", \"Jacksonville\", \"ElPaso\", \"ElPaso\", \"ElPaso\", \"ElPaso\", \"ElPaso\", ],\n",
    "    \"month\": [\"January\", \"February\", \"March\", \"April\", \"May\", \"January\", \"February\", \"March\", \"April\", \"May\"],\n",
    "    \"temperature\": [12, 23, 38, 5, 34, 20, 6, 26, 2, 43]\n",
    "})\n",
    "\n",
    "weather = pd.DataFrame(weather)\n",
    "\n",
    "def pivotTable(weather: pd.DataFrame) -> pd.DataFrame:\n",
    "    return pd.pivot_table(weather, index='month', columns='city', values='temperature', aggfunc='max')\n",
    "\n",
    "print(pivotTable(weather))"
   ]
  }
 ],
 "metadata": {
  "kernelspec": {
   "display_name": "Python 3",
   "language": "python",
   "name": "python3"
  },
  "language_info": {
   "codemirror_mode": {
    "name": "ipython",
    "version": 3
   },
   "file_extension": ".py",
   "mimetype": "text/x-python",
   "name": "python",
   "nbconvert_exporter": "python",
   "pygments_lexer": "ipython3",
   "version": "3.12.8"
  }
 },
 "nbformat": 4,
 "nbformat_minor": 2
}
