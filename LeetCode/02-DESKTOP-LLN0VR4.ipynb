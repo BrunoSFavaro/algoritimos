{
 "cells": [
  {
   "cell_type": "code",
   "execution_count": 12,
   "metadata": {},
   "outputs": [
    {
     "name": "stdout",
     "output_type": "stream",
     "text": [
      "   student_id first_name last_name  age_in_year\n",
      "0           1    gabriel     silva           15\n",
      "1           2        ana    favaro           14\n",
      "2           3       gabi    santos           21\n",
      "3           4     carlos   loureno           23\n",
      "4           5      lucas    maluco           11\n"
     ]
    }
   ],
   "source": [
    "import pandas as pd\n",
    "\n",
    "students = {\n",
    "    \"id\": [1, 2, 3, 4, 5],\n",
    "    \"first\": [\"gabriel\", \"ana\", \"gabi\", \"carlos\", \"lucas\"],\n",
    "    \"last\": [\"silva\", \"favaro\", \"santos\", \"loureno\", \"maluco\"],\n",
    "    \"age\": [15, 14, 21, 23, 11]\n",
    "}\n",
    "\n",
    "\n",
    "def renameColumns(students: pd.DataFrame) -> pd.DataFrame:\n",
    "    Newnames = {\n",
    "        'id': 'student_id',\n",
    "        'first': 'first_name',\n",
    "        'last': 'last_name',\n",
    "        'age': 'age_in_year'\n",
    "    }\n",
    "\n",
    "    return students.rename(columns=Newnames)\n",
    "\n",
    "print(renameColumns(pd.DataFrame(students)))\n",
    "\n"
   ]
  }
 ],
 "metadata": {
  "kernelspec": {
   "display_name": "Python 3",
   "language": "python",
   "name": "python3"
  },
  "language_info": {
   "codemirror_mode": {
    "name": "ipython",
    "version": 3
   },
   "file_extension": ".py",
   "mimetype": "text/x-python",
   "name": "python",
   "nbconvert_exporter": "python",
   "pygments_lexer": "ipython3",
   "version": "3.12.8"
  }
 },
 "nbformat": 4,
 "nbformat_minor": 2
}
