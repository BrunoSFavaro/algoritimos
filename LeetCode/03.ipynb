{
 "cells": [
  {
   "cell_type": "code",
   "execution_count": 12,
   "metadata": {},
   "outputs": [
    {
     "name": "stdout",
     "output_type": "stream",
     "text": [
      "   student_id   name  age  grade\n",
      "0           1    ana   10     73\n",
      "1           2    bia   15     82\n",
      "2           3  lucas   21     66\n"
     ]
    }
   ],
   "source": [
    "import pandas as pd \n",
    "\n",
    "students = {\n",
    "    \"student_id\": [1, 2, 3],\n",
    "    \"name\": [\"ana\", \"bia\", \"lucas\"],\n",
    "    \"age\": [10, 15, 21],\n",
    "    \"grade\": [73.0, 82.0, 66.0]\n",
    "}\n",
    "\n",
    "\n",
    "df = pd.DataFrame(students)\n",
    "df = df.astype({'grade': 'int32'})\n",
    "\n",
    "print(df)\n",
    "\n"
   ]
  }
 ],
 "metadata": {
  "kernelspec": {
   "display_name": "Python 3",
   "language": "python",
   "name": "python3"
  },
  "language_info": {
   "codemirror_mode": {
    "name": "ipython",
    "version": 3
   },
   "file_extension": ".py",
   "mimetype": "text/x-python",
   "name": "python",
   "nbconvert_exporter": "python",
   "pygments_lexer": "ipython3",
   "version": "3.12.8"
  }
 },
 "nbformat": 4,
 "nbformat_minor": 2
}
